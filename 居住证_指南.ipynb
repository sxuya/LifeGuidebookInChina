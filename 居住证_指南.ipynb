{
 "cells": [
  {
   "cell_type": "markdown",
   "metadata": {},
   "source": [
    "# 「居住证」\\_办理\\_方向指引"
   ]
  },
  {
   "cell_type": "markdown",
   "metadata": {},
   "source": [
    "## 适用范围"
   ]
  },
  {
   "cell_type": "markdown",
   "metadata": {},
   "source": [
    "主要针对**异地**工作、学习的人群的一个注意点。\n",
    "\n",
    "【主要人群】：「异地大学生」、「异地工作人员」等。\n",
    "\n",
    "【主要用途】：异地办理各种政府事情，比如「办理港澳通行证」、「考取驾照」、「认定教师资格证」等等"
   ]
  },
  {
   "cell_type": "markdown",
   "metadata": {},
   "source": [
    "## **大大的提醒**"
   ]
  },
  {
   "cell_type": "markdown",
   "metadata": {},
   "source": [
    "1. 下文内容均只是作为参考，不作为官方说明。\n",
    "\n",
    "如果紧急，请**【尽快到自己的街道办现场询问自己所需要的办理的材料】！**\n",
    "\n",
    "2. 如果有旧的居住证（即使过期了），带上，办理的时候可以直接更新旧卡，不用等待制作周期。"
   ]
  },
  {
   "cell_type": "markdown",
   "metadata": {},
   "source": [
    "## 方法一：使用社保流水记录**（推荐）**"
   ]
  },
  {
   "cell_type": "markdown",
   "metadata": {},
   "source": [
    "按照「广州本地宝」公众号的文章 [《2019两种情况下办理广州居住证不需等半年》](http://m.gz.bendibao.com/life/248893.html) 的说明，*2019年开始*，新增「社保流水」办理居住证的方式。\n",
    "\n",
    "所以，完全可以绕过以前 「房屋登记」+「6个月来穗人员登记」的要求。\n",
    "\n",
    "并且，已经得知有同事这么搞定了。\n",
    "\n",
    "步骤：\n",
    "\n",
    "1. 尽可能带齐材料，不怕多，就怕少。（包括但不限于：身份证 & 复印件、租房合同 & 复印件、劳动合同 & 复印件等；如果有旧居住证，**一定**带上）\n",
    "2. 去到一个比较大的街道办——有社保打印机的那种。（但是对于第一次办理的你来说，基本是不知道，那就找到一个先，没有的话就问那边工作人员哪里有。你都没有提前准备登记，多跑一趟也不过分。）\n",
    "3. 使用「身份证」，现场打印出「一年社保流水」。\n",
    "4. 使用「身份证」、「社保流水」办理居住证即可。\n",
    "5. 想要快一点，（听别人说），和工作人员煽煽情，表示自己超级急迫，会快一些。"
   ]
  },
  {
   "cell_type": "markdown",
   "metadata": {},
   "source": [
    "## 方法二：使用租房合同"
   ]
  },
  {
   "cell_type": "markdown",
   "metadata": {},
   "source": [
    "这个方法基本对于现在很多人来说是不适用了，因为**要等待180天**，可是我们就是很急迫需要办理「居住证」，所以，如果歪打正着登记了，那么恭喜！\n",
    "\n",
    "步骤同方法一，所需要的材料稍稍不同，但是还是那个原则，把你能带上的材料都带好，且准备好**复印件**，如果你想多跑几趟我也不拦着你。\n",
    "\n",
    "就是办理的时候，主要使用「身份证」和「租房合同」。\n"
   ]
  }
 ],
 "metadata": {
  "kernelspec": {
   "display_name": "python3.7.1",
   "language": "python",
   "name": "python3.7.1"
  },
  "language_info": {
   "codemirror_mode": {
    "name": "ipython",
    "version": 3
   },
   "file_extension": ".py",
   "mimetype": "text/x-python",
   "name": "python",
   "nbconvert_exporter": "python",
   "pygments_lexer": "ipython3",
   "version": "3.7.1"
  }
 },
 "nbformat": 4,
 "nbformat_minor": 2
}
